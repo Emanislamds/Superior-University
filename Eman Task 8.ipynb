{
 "cells": [
  {
   "cell_type": "code",
   "execution_count": 2,
   "id": "6def66fb",
   "metadata": {},
   "outputs": [],
   "source": [
    "# Task 8"
   ]
  },
  {
   "cell_type": "code",
   "execution_count": 3,
   "id": "b730c726",
   "metadata": {},
   "outputs": [
    {
     "name": "stdout",
     "output_type": "stream",
     "text": [
      "The optimal value is: 12\n"
     ]
    }
   ],
   "source": [
    "import math\n",
    "\n",
    "def minimax(depth, index, is_maximizing, scores, max_depth):\n",
    "    # Base case: return the score if we reach the target depth\n",
    "    if depth == max_depth:\n",
    "        return scores[index]\n",
    "\n",
    "    if is_maximizing:  \n",
    "        left = minimax(depth + 1, index * 2, False, scores, max_depth)\n",
    "        right = minimax(depth + 1, index * 2 + 1, False, scores, max_depth)\n",
    "        return max(left, right)\n",
    "    else:  \n",
    "        left = minimax(depth + 1, index * 2, True, scores, max_depth)\n",
    "        right = minimax(depth + 1, index * 2 + 1, True, scores, max_depth)\n",
    "        return min(left, right)\n",
    "\n",
    "# Example score tree\n",
    "scores = [3, 5, 2, 9, 12, 5, 23, 23]\n",
    "\n",
    "# Calculate depth of the tree\n",
    "max_depth = int(math.log2(len(scores)))\n",
    "\n",
    "print(\"The optimal value is:\", minimax(0, 0, True, scores, max_depth))\n"
   ]
  },
  {
   "cell_type": "code",
   "execution_count": null,
   "id": "be20f8d3",
   "metadata": {},
   "outputs": [],
   "source": []
  }
 ],
 "metadata": {
  "kernelspec": {
   "display_name": "Python 3 (ipykernel)",
   "language": "python",
   "name": "python3"
  },
  "language_info": {
   "codemirror_mode": {
    "name": "ipython",
    "version": 3
   },
   "file_extension": ".py",
   "mimetype": "text/x-python",
   "name": "python",
   "nbconvert_exporter": "python",
   "pygments_lexer": "ipython3",
   "version": "3.11.5"
  }
 },
 "nbformat": 4,
 "nbformat_minor": 5
}
