{
 "cells": [
  {
   "cell_type": "code",
   "execution_count": 1,
   "id": "85ddf757",
   "metadata": {},
   "outputs": [],
   "source": [
    "# Task 3"
   ]
  },
  {
   "cell_type": "code",
   "execution_count": 2,
   "id": "28e20b02",
   "metadata": {},
   "outputs": [
    {
     "name": "stdout",
     "output_type": "stream",
     "text": [
      "First Cycle:\n",
      "Living Room: Current temperature = 18°C. Turn on heater.\n",
      "Bedroom: Current temperature = 22°C. Do nothing (Heater already off).\n",
      "Kitchen: Current temperature = 20°C. Turn on heater.\n",
      "Bathroom: Current temperature = 24°C. Do nothing (Heater already off).\n",
      "\n",
      "Second Cycle:\n",
      "Living Room: Current temperature = 21°C. Do nothing (Heater already on).\n",
      "Bedroom: Current temperature = 22°C. Do nothing (Heater already off).\n",
      "Kitchen: Current temperature = 22°C. Turn off heater.\n",
      "Bathroom: Current temperature = 23°C. Do nothing (Heater already off).\n"
     ]
    }
   ],
   "source": [
    "class ModelBasedReflexAgent:\n",
    "    def __init__(self, desired_temperature):\n",
    "        self.desired_temperature = desired_temperature\n",
    "\n",
    "        self.previous_states = {}\n",
    "\n",
    "    def perceive(self, current_temperature):\n",
    "        return current_temperature\n",
    "\n",
    "    def act(self, room, current_temperature):\n",
    "\n",
    "        previous_state = self.previous_states.get(room, \"Off\")\n",
    "        \n",
    "        if current_temperature < self.desired_temperature:\n",
    "            if previous_state != \"On\":\n",
    "                action = \"Turn on heater\"\n",
    "                self.previous_states[room] = \"On\"\n",
    "            else:\n",
    "                action = \"Do nothing (Heater already on)\"\n",
    "        else:\n",
    "            if previous_state != \"Off\":\n",
    "                action = \"Turn off heater\"\n",
    "                self.previous_states[room] = \"Off\"\n",
    "            else:\n",
    "                action = \"Do nothing (Heater already off)\"\n",
    "        \n",
    "        return action\n",
    "\n",
    "rooms = {\n",
    "    \"Living Room\": 18,\n",
    "    \"Bedroom\": 22,\n",
    "    \"Kitchen\": 20,\n",
    "    \"Bathroom\": 24\n",
    "}\n",
    "\n",
    "desired_temperature = 22\n",
    "agent = ModelBasedReflexAgent(desired_temperature)\n",
    "\n",
    "print(\"First Cycle:\")\n",
    "for room, temperature in rooms.items():\n",
    "    action = agent.act(room, temperature)\n",
    "    print(f\"{room}: Current temperature = {temperature}°C. {action}.\")\n",
    "\n",
    "rooms = {\n",
    "    \"Living Room\": 21,\n",
    "    \"Bedroom\": 22,\n",
    "    \"Kitchen\": 22,\n",
    "    \"Bathroom\": 23\n",
    "}\n",
    "\n",
    "print(\"\\nSecond Cycle:\")\n",
    "for room, temperature in rooms.items():\n",
    "    action = agent.act(room, temperature)\n",
    "    print(f\"{room}: Current temperature = {temperature}°C. {action}.\")\n"
   ]
  },
  {
   "cell_type": "code",
   "execution_count": null,
   "id": "bec1a143",
   "metadata": {},
   "outputs": [],
   "source": []
  }
 ],
 "metadata": {
  "kernelspec": {
   "display_name": "Python 3 (ipykernel)",
   "language": "python",
   "name": "python3"
  },
  "language_info": {
   "codemirror_mode": {
    "name": "ipython",
    "version": 3
   },
   "file_extension": ".py",
   "mimetype": "text/x-python",
   "name": "python",
   "nbconvert_exporter": "python",
   "pygments_lexer": "ipython3",
   "version": "3.11.5"
  }
 },
 "nbformat": 4,
 "nbformat_minor": 5
}
